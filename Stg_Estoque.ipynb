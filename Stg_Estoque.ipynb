{
 "cells": [
  {
   "cell_type": "markdown",
   "id": "5dbc3cf2",
   "metadata": {},
   "source": [
    "___________ "
   ]
  },
  {
   "cell_type": "code",
   "execution_count": null,
   "id": "0be4d1eb",
   "metadata": {},
   "outputs": [],
   "source": [
    "pip install pymysql"
   ]
  },
  {
   "cell_type": "code",
   "execution_count": 1,
   "id": "51ce2439",
   "metadata": {},
   "outputs": [
    {
     "data": {
      "text/plain": [
       "'Data: 2025-03-24 Hora: 11:03'"
      ]
     },
     "execution_count": 1,
     "metadata": {},
     "output_type": "execute_result"
    }
   ],
   "source": [
    "import os\n",
    "import time\n",
    "import pandas as pd\n",
    "import mysql.connector\n",
    "import gzip\n",
    "from sqlalchemy import create_engine\n",
    "\n",
    "import pymysql\n",
    "pymysql.install_as_MySQLdb()\n",
    "\n",
    "from datetime import datetime, timedelta\n",
    "datetime.today().strftime('Data: %Y-%m-%d Hora: %H:%m')"
   ]
  },
  {
   "cell_type": "code",
   "execution_count": 2,
   "id": "648474ed",
   "metadata": {},
   "outputs": [
    {
     "data": {
      "text/plain": [
       "67"
      ]
     },
     "execution_count": 2,
     "metadata": {},
     "output_type": "execute_result"
    }
   ],
   "source": [
    "# #CAMINHO DA PASTA COM OS ARQUIVOS\n",
    "arquivos = os.listdir(\"//172.31.8.209/Files/CataliseInvestimentos/14. BigData Catalise/Staging/Estoques\")\n",
    "df_csv_agis = pd.DataFrame()\n",
    "len(arquivos)"
   ]
  },
  {
   "cell_type": "markdown",
   "id": "1b33af8e",
   "metadata": {},
   "source": [
    "#### E se eu fizer os paths de arquivos separados por custodiante? De manhã eu só rodaria o path de Singulare e não precisaria mover os arquivos da pasta na rede"
   ]
  },
  {
   "cell_type": "markdown",
   "id": "834fec29",
   "metadata": {},
   "source": [
    "### Excluir esses arquivos, pois já atualizamos no singulare (estoque)\n",
    "\n",
    "* 33499726000170_Estoque_BRISTOL FIDC MULTISSETORIAL_001\n",
    "* 51660048000167_Estoque_APG FIDC_001\n",
    "* 41520452000181_Estoque_AGROFORTE FIDC_001"
   ]
  },
  {
   "cell_type": "markdown",
   "id": "fdce11dc",
   "metadata": {},
   "source": [
    "# CRIA DATAFRAME AGIS"
   ]
  },
  {
   "cell_type": "code",
   "execution_count": 3,
   "id": "0ff5ad5a",
   "metadata": {},
   "outputs": [],
   "source": [
    "import pandas as pd\n",
    "\n",
    "# Encontra o arquivo AGIS\n",
    "csv_agis = list(filter(lambda x: 'ÁGIS FIDC' in x, arquivos))\n",
    "\n",
    "# Inicializa o DataFrame vazio\n",
    "df_csv_agis = pd.DataFrame()\n",
    "\n",
    "try:\n",
    "    # Lê o arquivo CSV, ignorando linhas problemáticas\n",
    "    df_csv_agis = pd.read_csv(\n",
    "        f'//172.31.8.209/Files/CataliseInvestimentos/14. BigData Catalise/Staging/Estoques/{csv_agis[0]}',\n",
    "        delimiter=';',\n",
    "        encoding='latin-1',\n",
    "        dtype='str',\n",
    "        on_bad_lines='skip'  # Ignora linhas com erros\n",
    "    )\n",
    "\n",
    "    # Filtra apenas as colunas necessárias\n",
    "    colunas_desejadas = [\n",
    "        'NOME_FUNDO', 'DOC_FUNDO', 'NOME_CEDENTE', 'DOC_CEDENTE', 'NOME_SACADO',\n",
    "        'DOC_SACADO', 'SEU_NUMERO', 'NU_DOCUMENTO', 'TIPO_RECEBIVEL',\n",
    "        'VALOR_NOMINAL', 'VALOR_PRESENTE', 'VALOR_AQUISICAO', 'VALOR_PDD',\n",
    "        'FAIXA_PDD', 'DATA_REFERENCIA', 'DATA_VENCIMENTO_ORIGINAL',\n",
    "        'DATA_VENCIMENTO_AJUSTADA', 'DATA_EMISSAO', 'DATA_AQUISICAO',\n",
    "        'TAXA_CESSAO', 'TX_RECEBIVEL', 'COOBRIGACAO'\n",
    "    ]\n",
    "    df_csv_agis = df_csv_agis[colunas_desejadas]\n",
    "\n",
    "    # Renomeia as colunas\n",
    "    df_csv_agis.columns = [\n",
    "        'NmFundo', 'DocFundo', 'NmCedente', 'DocCedente', 'NmSacado', 'DocSacado',\n",
    "        'Operacao', 'NuDocumento', 'TpRecebivel', 'VlrNominal', 'VlrPresente',\n",
    "        'VlrAquisicao', 'VlrPDD', 'FaixaPDD', 'DtReferencia', 'DtVencimento',\n",
    "        'DtVencimentoAjustada', 'DtEmissao', 'DtAquisicao', 'TaxaCessao',\n",
    "        'TaxaRecebivel', 'Coobrigacao'\n",
    "    ]\n",
    "\n",
    "    # Converte as colunas de data\n",
    "    date_columns = ['DtReferencia', 'DtVencimento', 'DtVencimentoAjustada', 'DtEmissao', 'DtAquisicao']\n",
    "    for col in date_columns:\n",
    "        df_csv_agis[col] = pd.to_datetime(df_csv_agis[col], format=\"%d/%m/%Y\", errors='coerce')\n",
    "\n",
    "    # Função para tratar valores numéricos\n",
    "    def transformar_valor(valor):\n",
    "        if pd.isna(valor):\n",
    "            return valor\n",
    "        valor_str = str(valor)\n",
    "        valor_str = valor_str.replace('.', '').replace(',', '.')\n",
    "        return float(valor_str)\n",
    "\n",
    "    # Converte as colunas numéricas\n",
    "    columns_to_convert = ['VlrNominal', 'VlrPresente', 'VlrAquisicao', 'VlrPDD', 'TaxaCessao', 'TaxaRecebivel']\n",
    "    for column in columns_to_convert:\n",
    "        df_csv_agis[column] = df_csv_agis[column].apply(transformar_valor)\n",
    "\n",
    "except Exception as e:\n",
    "    print(f\"Erro ao processar o arquivo: {e}\")"
   ]
  },
  {
   "cell_type": "code",
   "execution_count": 4,
   "id": "6fd58bcf",
   "metadata": {},
   "outputs": [
    {
     "data": {
      "text/html": [
       "<div>\n",
       "<style scoped>\n",
       "    .dataframe tbody tr th:only-of-type {\n",
       "        vertical-align: middle;\n",
       "    }\n",
       "\n",
       "    .dataframe tbody tr th {\n",
       "        vertical-align: top;\n",
       "    }\n",
       "\n",
       "    .dataframe thead th {\n",
       "        text-align: right;\n",
       "    }\n",
       "</style>\n",
       "<table border=\"1\" class=\"dataframe\">\n",
       "  <thead>\n",
       "    <tr style=\"text-align: right;\">\n",
       "      <th></th>\n",
       "      <th>VlrNominal</th>\n",
       "      <th>VlrPresente</th>\n",
       "      <th>VlrAquisicao</th>\n",
       "      <th>VlrPDD</th>\n",
       "    </tr>\n",
       "  </thead>\n",
       "  <tbody>\n",
       "    <tr>\n",
       "      <th>0</th>\n",
       "      <td>63265.56</td>\n",
       "      <td>63265.56</td>\n",
       "      <td>61106.28</td>\n",
       "      <td>63265.56</td>\n",
       "    </tr>\n",
       "    <tr>\n",
       "      <th>1</th>\n",
       "      <td>210748.00</td>\n",
       "      <td>210748.00</td>\n",
       "      <td>204215.48</td>\n",
       "      <td>210748.00</td>\n",
       "    </tr>\n",
       "    <tr>\n",
       "      <th>2</th>\n",
       "      <td>24400.00</td>\n",
       "      <td>24400.00</td>\n",
       "      <td>22965.67</td>\n",
       "      <td>24400.00</td>\n",
       "    </tr>\n",
       "    <tr>\n",
       "      <th>3</th>\n",
       "      <td>57264.16</td>\n",
       "      <td>57264.16</td>\n",
       "      <td>55306.22</td>\n",
       "      <td>57264.16</td>\n",
       "    </tr>\n",
       "    <tr>\n",
       "      <th>4</th>\n",
       "      <td>24400.00</td>\n",
       "      <td>24400.00</td>\n",
       "      <td>22148.50</td>\n",
       "      <td>24400.00</td>\n",
       "    </tr>\n",
       "    <tr>\n",
       "      <th>...</th>\n",
       "      <td>...</td>\n",
       "      <td>...</td>\n",
       "      <td>...</td>\n",
       "      <td>...</td>\n",
       "    </tr>\n",
       "    <tr>\n",
       "      <th>11955</th>\n",
       "      <td>20615.55</td>\n",
       "      <td>19394.39</td>\n",
       "      <td>19243.16</td>\n",
       "      <td>0.00</td>\n",
       "    </tr>\n",
       "    <tr>\n",
       "      <th>11956</th>\n",
       "      <td>2120.20</td>\n",
       "      <td>1994.62</td>\n",
       "      <td>1979.07</td>\n",
       "      <td>0.00</td>\n",
       "    </tr>\n",
       "    <tr>\n",
       "      <th>11957</th>\n",
       "      <td>28444.41</td>\n",
       "      <td>28185.28</td>\n",
       "      <td>28086.24</td>\n",
       "      <td>140.93</td>\n",
       "    </tr>\n",
       "    <tr>\n",
       "      <th>11958</th>\n",
       "      <td>3451.80</td>\n",
       "      <td>3420.35</td>\n",
       "      <td>3408.33</td>\n",
       "      <td>17.10</td>\n",
       "    </tr>\n",
       "    <tr>\n",
       "      <th>11959</th>\n",
       "      <td>211731.12</td>\n",
       "      <td>203693.25</td>\n",
       "      <td>202570.17</td>\n",
       "      <td>0.00</td>\n",
       "    </tr>\n",
       "  </tbody>\n",
       "</table>\n",
       "<p>11960 rows × 4 columns</p>\n",
       "</div>"
      ],
      "text/plain": [
       "       VlrNominal  VlrPresente  VlrAquisicao     VlrPDD\n",
       "0        63265.56     63265.56      61106.28   63265.56\n",
       "1       210748.00    210748.00     204215.48  210748.00\n",
       "2        24400.00     24400.00      22965.67   24400.00\n",
       "3        57264.16     57264.16      55306.22   57264.16\n",
       "4        24400.00     24400.00      22148.50   24400.00\n",
       "...           ...          ...           ...        ...\n",
       "11955    20615.55     19394.39      19243.16       0.00\n",
       "11956     2120.20      1994.62       1979.07       0.00\n",
       "11957    28444.41     28185.28      28086.24     140.93\n",
       "11958     3451.80      3420.35       3408.33      17.10\n",
       "11959   211731.12    203693.25     202570.17       0.00\n",
       "\n",
       "[11960 rows x 4 columns]"
      ]
     },
     "execution_count": 4,
     "metadata": {},
     "output_type": "execute_result"
    }
   ],
   "source": [
    "df_csv_agis[['VlrNominal', 'VlrPresente' , 'VlrAquisicao', 'VlrPDD']]"
   ]
  },
  {
   "cell_type": "markdown",
   "id": "fbc0d6da",
   "metadata": {},
   "source": [
    "## ESTOQUE OUTROS FUNDOS"
   ]
  },
  {
   "cell_type": "code",
   "execution_count": 5,
   "id": "c14c542b",
   "metadata": {},
   "outputs": [],
   "source": [
    "## CRIA DATAFRAME COM OS DADOS DE ESTOQUE DA PASTA/ OUTROS FUNDOS\n",
    "\n",
    "string = \",\".join(str(element) for element in csv_agis)\n",
    "arquivos = list(filter(lambda x: x != str(string), arquivos))  # Dispensa arquivo AGIS\n",
    "\n",
    "stop = 0\n",
    "df = pd.DataFrame()\n",
    "\n",
    "while stop < len(arquivos):\n",
    "    \n",
    "    # Leitura do arquivo com on_bad_lines='skip' para ignorar linhas problemáticas\n",
    "    estoque = pd.read_csv(\n",
    "        f'//172.31.8.209/Files/CataliseInvestimentos/14. BigData Catalise/Staging/Estoques/{arquivos[stop]}',\n",
    "        delimiter=';',\n",
    "        encoding='latin-1',\n",
    "        dtype='str',\n",
    "        on_bad_lines='skip'  # Ignora automaticamente as linhas que causariam erro\n",
    "    )\n",
    "    \n",
    "    df = pd.concat([df, estoque], ignore_index=True)\n",
    "    \n",
    "    stop += 1\n",
    "\n",
    "# Seleção das colunas desejadas\n",
    "df_estoque = df[['NOME_FUNDO', 'DOC_FUNDO', 'NOME_CEDENTE', 'DOC_CEDENTE', 'NOME_SACADO',\n",
    "                 'DOC_SACADO', 'SEU_NUMERO', 'NU_DOCUMENTO', 'TIPO_RECEBIVEL',\n",
    "                 'VALOR_NOMINAL', 'VALOR_PRESENTE', 'VALOR_AQUISICAO', 'VALOR_PDD',\n",
    "                 'FAIXA_PDD', 'DATA_REFERENCIA', 'DATA_VENCIMENTO_ORIGINAL',\n",
    "                 'DATA_VENCIMENTO_AJUSTADA', 'DATA_EMISSAO', 'DATA_AQUISICAO', 'COOBRIGACAO']]\n"
   ]
  },
  {
   "cell_type": "code",
   "execution_count": 6,
   "id": "381dfc87",
   "metadata": {},
   "outputs": [
    {
     "name": "stderr",
     "output_type": "stream",
     "text": [
      "C:\\Users\\atrindade\\AppData\\Local\\Temp\\2\\ipykernel_5808\\2635697445.py:10: SettingWithCopyWarning: \n",
      "A value is trying to be set on a copy of a slice from a DataFrame.\n",
      "Try using .loc[row_indexer,col_indexer] = value instead\n",
      "\n",
      "See the caveats in the documentation: https://pandas.pydata.org/pandas-docs/stable/user_guide/indexing.html#returning-a-view-versus-a-copy\n",
      "  df_estoque[date_columns] = df_estoque[date_columns].apply(\n",
      "C:\\Users\\atrindade\\AppData\\Local\\Temp\\2\\ipykernel_5808\\2635697445.py:25: SettingWithCopyWarning: \n",
      "A value is trying to be set on a copy of a slice from a DataFrame.\n",
      "Try using .loc[row_indexer,col_indexer] = value instead\n",
      "\n",
      "See the caveats in the documentation: https://pandas.pydata.org/pandas-docs/stable/user_guide/indexing.html#returning-a-view-versus-a-copy\n",
      "  df_estoque[column] = df_estoque[column].apply(transformar_valor)\n"
     ]
    },
    {
     "name": "stdout",
     "output_type": "stream",
     "text": [
      "2025-03-20 00:00:00 Data Referência \n",
      "2025-03-18 00:00:00 \n",
      "67 Carregados \n",
      "1233424 Total de linhas\n"
     ]
    }
   ],
   "source": [
    "# Renomeia as colunas\n",
    "df_estoque.columns = ['NmFundo', 'DocFundo', 'NmCedente', 'DocCedente', 'NmSacado', 'DocSacado', 'Operacao', \n",
    "                      'NuDocumento', 'TpRecebivel', 'VlrNominal', 'VlrPresente', 'VlrAquisicao', 'VlrPDD', \n",
    "                      'FaixaPDD', 'DtReferencia', 'DtVencimento', 'DtVencimentoAjustada', 'DtEmissao', \n",
    "                      'DtAquisicao', 'Coobrigacao']\n",
    "\n",
    "# Alterando o tipo das colunas de data com tratamento de erros\n",
    "date_columns = ['DtReferencia', 'DtVencimento', 'DtVencimentoAjustada', 'DtEmissao', 'DtAquisicao']\n",
    "\n",
    "df_estoque[date_columns] = df_estoque[date_columns].apply(\n",
    "    pd.to_datetime, format=\"%d/%m/%Y\", errors='coerce'  # Converte valores inválidos para NaT\n",
    ")\n",
    "\n",
    "# Tratando dados numéricos\n",
    "columns_to_convert = ['VlrNominal', 'VlrPresente', 'VlrAquisicao', 'VlrPDD']\n",
    "\n",
    "def transformar_valor(valor):\n",
    "    try:\n",
    "        valor_str = str(valor).replace('.', '').replace(',', '.')\n",
    "        return float(valor_str)\n",
    "    except ValueError:  # Captura valores não numéricos e retorna NaN\n",
    "        return pd.NA\n",
    "\n",
    "for column in columns_to_convert:\n",
    "    df_estoque[column] = df_estoque[column].apply(transformar_valor)\n",
    "\n",
    "# Remove duplicados\n",
    "df_estoque = df_estoque.drop_duplicates()\n",
    "\n",
    "# Uni os DataFrames\n",
    "df_estoque = pd.concat([df_estoque, df_csv_agis])\n",
    "\n",
    "# Exibe informações\n",
    "print(f\"{max(df_estoque['DtReferencia'])} Data Referência \\n{min(df_estoque['DtReferencia'])} \\n{len(df_estoque['NmFundo'].unique())} Carregados \\n{len(df_estoque['NmFundo'])} Total de linhas\")\n"
   ]
  },
  {
   "cell_type": "code",
   "execution_count": 7,
   "id": "0246d1b3",
   "metadata": {},
   "outputs": [
    {
     "name": "stdout",
     "output_type": "stream",
     "text": [
      "Last date in dataframe df_estoque: 2025-03-20 00:00:00\n"
     ]
    }
   ],
   "source": [
    "last_date = df_estoque['DtReferencia'].max()\n",
    "print(f\"Last date in dataframe df_estoque: {last_date}\")"
   ]
  },
  {
   "cell_type": "code",
   "execution_count": 8,
   "id": "133445b2-0627-431a-9cf3-240152ae3211",
   "metadata": {},
   "outputs": [
    {
     "data": {
      "text/plain": [
       "Index(['NmFundo', 'DocFundo', 'NmCedente', 'DocCedente', 'NmSacado',\n",
       "       'DocSacado', 'Operacao', 'NuDocumento', 'TpRecebivel', 'VlrNominal',\n",
       "       'VlrPresente', 'VlrAquisicao', 'VlrPDD', 'FaixaPDD', 'DtReferencia',\n",
       "       'DtVencimento', 'DtVencimentoAjustada', 'DtEmissao', 'DtAquisicao',\n",
       "       'Coobrigacao', 'TaxaCessao', 'TaxaRecebivel'],\n",
       "      dtype='object')"
      ]
     },
     "execution_count": 8,
     "metadata": {},
     "output_type": "execute_result"
    }
   ],
   "source": [
    "df_estoque.columns"
   ]
  },
  {
   "cell_type": "code",
   "execution_count": 9,
   "id": "e8c790db",
   "metadata": {},
   "outputs": [
    {
     "name": "stdout",
     "output_type": "stream",
     "text": [
      "    NmFundo            DocFundo                                 NmCedente  \\\n",
      "0  FIDC DFC  29.109.316/0001-06      ENERTEX IND. E COM. DE BATERIAS LTDA   \n",
      "1  FIDC DFC  29.109.316/0001-06  NUTRIWAY FOODS INDUSTRIA ALIMENTICIA LTD   \n",
      "2  FIDC DFC  29.109.316/0001-06  NUTRIWAY FOODS INDUSTRIA ALIMENTICIA LTD   \n",
      "3  FIDC DFC  29.109.316/0001-06  NUTRIWAY FOODS INDUSTRIA ALIMENTICIA LTD   \n",
      "4  FIDC DFC  29.109.316/0001-06  NUTRIWAY FOODS INDUSTRIA ALIMENTICIA LTD   \n",
      "\n",
      "           DocCedente                                 NmSacado  \\\n",
      "0  14.605.901/0001-11                   BAT FLEX BATERIAS LTDA   \n",
      "1  14.906.839/0001-06                  ARMAZEM MATEUS S A 4003   \n",
      "2  14.906.839/0001-06        PACALUZ COMERCIO E LOGISTICA LTDA   \n",
      "3  14.906.839/0001-06  PERFORME FLAVOR INDUSTRIA E COMERCIO DE   \n",
      "4  14.906.839/0001-06  PERFORME FLAVOR INDUSTRIA E COMERCIO DE   \n",
      "\n",
      "            DocSacado                  Operacao NuDocumento TpRecebivel  \\\n",
      "0  11.364.574/0001-65  R00000026545 01 01 00001       12953   Duplicata   \n",
      "1  23.439.441/0013-23  R00000046892 01 01 00001   66460-001   Duplicata   \n",
      "2  01.492.857/0001-39  R00000047947 01 01 00001   66717-001   Duplicata   \n",
      "3  17.214.379/0001-35  R00000050735 01 01 00001   67562-001   Duplicata   \n",
      "4  17.214.379/0001-35  R00000050744 01 01 00001   67584-001   Duplicata   \n",
      "\n",
      "   VlrNominal  VlrPresente  VlrAquisicao     VlrPDD FaixaPDD DtReferencia  \\\n",
      "0   243208.44    243208.44     280005.00  243208.44      WOP   2025-03-20   \n",
      "1   257697.02    257697.02     257697.02  257697.02      WOP   2025-03-20   \n",
      "2   249300.00    249300.00     249300.00  249300.00      WOP   2025-03-20   \n",
      "3   109366.25    109366.25     109366.25  109366.25      WOP   2025-03-20   \n",
      "4   114168.00    114168.00     114168.00  114168.00      WOP   2025-03-20   \n",
      "\n",
      "  DtVencimento DtVencimentoAjustada  DtEmissao DtAquisicao Coobrigacao  \n",
      "0   2021-07-20           2021-07-20 2021-06-14  2024-05-31         Sim  \n",
      "1   2023-07-09           2023-07-09 2023-05-29  2024-05-31         Sim  \n",
      "2   2023-08-20           2023-08-20 2023-06-23  2024-05-31         Sim  \n",
      "3   2023-10-09           2023-10-09 2023-09-11  2024-05-31         Sim  \n",
      "4   2023-10-11           2023-10-11 2023-09-12  2024-05-31         Sim  \n"
     ]
    }
   ],
   "source": [
    "# Remover as colunas 'TaxaCessao' e 'TaxaRecebivel'\n",
    "df_estoque = df_estoque.drop(columns=['TaxaCessao', 'TaxaRecebivel'])\n",
    "\n",
    "# Exibir as primeiras linhas para confirmar\n",
    "print(df_estoque.head())"
   ]
  },
  {
   "cell_type": "markdown",
   "id": "5e238291",
   "metadata": {},
   "source": [
    "# Tratativa nomes dos Fundos "
   ]
  },
  {
   "cell_type": "code",
   "execution_count": 10,
   "id": "fac00e2c",
   "metadata": {},
   "outputs": [
    {
     "name": "stdout",
     "output_type": "stream",
     "text": [
      "80427         FIDC 3G BANK\n",
      "72325             FIDC 3RD\n",
      "1054415           FIDC AF6\n",
      "11959            FIDC AGIS\n",
      "1042642      FIDC AGROCETE\n",
      "                ...       \n",
      "1042829        FIDC VISHNU\n",
      "1169005        FIDC VITTRA\n",
      "1220731        FIDC YELLOW\n",
      "1108497      FIDC Z INVEST\n",
      "1220840    FIDC ZAB LEGACY\n",
      "Name: NmFundo, Length: 67, dtype: object \n",
      " 67\n"
     ]
    }
   ],
   "source": [
    "df_estoque.loc[df_estoque['NmFundo'] == 'ÁGIS 2 FUNDO DE INVESTIMENTO EM DIREITOS CREDITÓRIOS', 'NmFundo'] = 'FIDC USECORP CATALISE'\n",
    "df_estoque.loc[df_estoque['NmFundo'] == 'ÁGIS FIDC', 'NmFundo'] = 'FIDC AGIS'\n",
    "df_estoque.loc[df_estoque['NmFundo'] == 'AGIS FIDC NAO PADRONIZADO - TRANSFERIDO', 'NmFundo'] = 'FIDC AGIS'\n",
    "df_estoque.loc[df_estoque['NmFundo'] == 'AGROFORTE FIDC', 'NmFundo'] = 'FIDC AGROFORTE'\n",
    "df_estoque.loc[df_estoque['NmFundo'] == 'ALBAREDO FIDC', 'NmFundo'] = 'FIDC ALBAREDO'\n",
    "df_estoque.loc[df_estoque['NmFundo'] == 'APG FIDC', 'NmFundo'] = 'FIDC APG'\n",
    "df_estoque.loc[df_estoque['NmFundo'] == 'SC FIDC RESPONSABILIDADE ILIMITADA', 'NmFundo'] = 'FIDC SC'\n",
    "df_estoque.loc[df_estoque['NmFundo'] == 'Prime Agro FIDC RL', 'NmFundo'] = 'FIDC PRIME AGRO'\n",
    "df_estoque.loc[df_estoque['NmFundo'] == 'IPE FIDC NP', 'NmFundo'] = 'FIDC IPE'\n",
    "df_estoque.loc[df_estoque['NmFundo'] == 'SDL - FUNDO DE INVESTIMENTO EM DIREITOS CREDITORIOS', 'NmFundo'] = 'FIDC SDL'\n",
    "df_estoque.loc[df_estoque['NmFundo'] == 'BLUE ROCKET FIDC', 'NmFundo'] = 'FIDC B ROCKET'\n",
    "df_estoque.loc[df_estoque['NmFundo'] == 'K-FINANCE FIDC NP', 'NmFundo'] = 'FIDC K-FINANCE'\n",
    "df_estoque.loc[df_estoque['NmFundo'] == 'Z INVEST FIDC', 'NmFundo'] = 'FIDC Z INVEST'\n",
    "df_estoque.loc[df_estoque['NmFundo'] == 'GLOBAL FUTURA FIDC RL FIDC', 'NmFundo'] = 'FIDC GLOBAL FUTURA'\n",
    "df_estoque.loc[df_estoque['NmFundo'] == 'BASA FIDC DE RESPONSABILIDADE LIMITADA', 'NmFundo'] = 'FIDC BASA'\n",
    "df_estoque.loc[df_estoque['NmFundo'] == 'AF6 FIDC NP', 'NmFundo'] = 'FIDC AF6'\n",
    "df_estoque.loc[df_estoque['NmFundo'] == 'VERGINIA FIDC', 'NmFundo'] = 'FIDC VERGINIA'\n",
    "df_estoque.loc[df_estoque['NmFundo'] == 'BELL FUNDO DE INVESTIMENTO EM DIREITOS CREDITÓRIOS', 'NmFundo'] = 'FIDC BELL'\n",
    "df_estoque.loc[df_estoque['NmFundo'] == 'CREDIAL BANK PAN FIDC', 'NmFundo'] = 'FIDC CREDIAL'\n",
    "df_estoque.loc[df_estoque['NmFundo'] == 'VISHNU FIDC', 'NmFundo'] = 'FIDC VISHNU'\n",
    "df_estoque.loc[df_estoque['NmFundo'] == 'CREDILOG FIDC', 'NmFundo'] = 'FIDC CREDILOG'\n",
    "df_estoque.loc[df_estoque['NmFundo'] == 'BONTEMPO FUNDO DE INVESTIMENTO EM DIREITOS CREDITORIOS DE RESPONSABILIDADE LIMITADA', 'NmFundo'] = 'FIDC BONTEMPO'\n",
    "df_estoque.loc[df_estoque['NmFundo'] == 'DFC FUNDO DE INVESTIMENTO EM DIREITOS CREDITÓRIOS NP', 'NmFundo'] = 'FIDC DFC'\n",
    "df_estoque.loc[df_estoque['NmFundo'] == 'KERDOS FIDC', 'NmFundo'] = 'FIDC KERDOS'\n",
    "df_estoque.loc[df_estoque['NmFundo'] == 'DBANK FUNDO DE INVESTIMENTO EM DIREITOS CREDITÓRIOS DE RESPONSABILIDADE LIMITADA', 'NmFundo'] = 'FIDC DBANK'\n",
    "df_estoque.loc[df_estoque['NmFundo'] == 'PINPAG FIDC', 'NmFundo'] = 'FIDC PINPAG'\n",
    "df_estoque.loc[df_estoque['NmFundo'] == 'FUTURO CAPITAL FUNDO DE INVESTIMENTO EM DIREITOS CREDITORIOS DE RESPONSABILIDADE LIMITADA', 'NmFundo'] = 'FIDC FUTURO CAPITAL'\n",
    "df_estoque.loc[df_estoque['NmFundo'] == 'AGROCETE FIDC NP', 'NmFundo'] = 'FIDC AGROCETE'\n",
    "df_estoque.loc[df_estoque['NmFundo'] == 'VELSO - FUNDO DE INVESTIMENTO EM DIREITOS CREDITORIOS NAO-PADRONIZADOS', 'NmFundo'] = 'FIDC VELSO'\n",
    "\n",
    "df_estoque.loc[df_estoque['NmFundo'] == 'PAY CARGO FIDC NP', 'NmFundo'] = 'FIDC PAY CARGO'\n",
    "df_estoque.loc[df_estoque['NmFundo'] == 'GREENWOOD FUNDO DE INVESTIMENTO EM DIREITOS CREDITORIOS NAO PADRONIZADOS', 'NmFundo'] = 'FIDC GREENWOOD'\n",
    "df_estoque.loc[df_estoque['NmFundo'] == 'CAPITALIZA FUNDO DE INVESTIMENTO EM DIREITOS CREDITÓRIOS DE RESPONSABILIDADE LIMITADA', 'NmFundo'] = 'FIDC CAPITALIZA'\n",
    "\n",
    "df_estoque.loc[df_estoque['NmFundo'] == 'NINE CAPITAL FUNDO DE INVESTIMENTO EM DIREITOS CREDITORIOS', 'NmFundo'] = 'FIDC NINE CAPITAL'\n",
    "df_estoque.loc[df_estoque['NmFundo'] == 'BEFIC FIDC DE RESPONSABILIDADE LIMITADA', 'NmFundo'] = 'FIDC BEFIC'\n",
    "df_estoque.loc[df_estoque['NmFundo'] == 'LIBRA CONSIGNADO FIDC DE RL', 'NmFundo'] = 'FIDC LIBRA CONSIGNADO'\n",
    "df_estoque.loc[df_estoque['NmFundo'] == 'MASTRENN FUNDO DE INVESTIMENTO EM DIREITOS CREDITORIOS', 'NmFundo'] = 'FIDC MASTRENN'\n",
    "df_estoque.loc[df_estoque['NmFundo'] == 'CREDILOG II - FIDC', 'NmFundo'] = 'FIDC CREDILOG II'\n",
    "df_estoque.loc[df_estoque['NmFundo'] == 'F2 BANK FUNDO DE INVESTIMENTO EM DIREITOS CREDITORIOS', 'NmFundo'] = 'FIDC F2 BANK'\n",
    "df_estoque.loc[df_estoque['NmFundo'] == 'UKF FUNDO DE INVESTIMENTO EM DIREITOS CREDITÓRIOS', 'NmFundo'] = 'FIDC UKF'\n",
    "df_estoque.loc[df_estoque['NmFundo'] == 'MF GROUP FUNDO DE INVESTIMENTO EM DIREITOS CREDITORIOS', 'NmFundo'] = 'FIDC MF GROUP'\n",
    "df_estoque.loc[df_estoque['NmFundo'] == 'NR11 FUNDO DE INVESTIMENTO EM DIREITOS CREDITORIOS DE RESPONSABILIDADE LIMITADA', 'NmFundo'] = 'FIDC NR11'\n",
    "df_estoque.loc[df_estoque['NmFundo'] == 'VITTRA FUNDO DE INVESTIMENTO EM DIREITOS CREDITÓRIOS DE RESPONSABILIDADE LIMITADA  NIX AUDITORES INDEPENDENTES', 'NmFundo'] = 'FIDC VITTRA'\n",
    "df_estoque.loc[df_estoque['NmFundo'] == 'ANIL FUNDO DE INVESTIMENTO EM DIREITOS CREDITORIOS DE RESPONSABILIDADE LIMITADA', 'NmFundo'] = 'FIDC ANIL'\n",
    "df_estoque.loc[df_estoque['NmFundo'] == 'ANVERES  FUNDO DE INVESTIMENTO EM DIREITOS CREDITORIOS DE RESPONSABILIDADE LIMITADA', 'NmFundo'] = 'FIDC ANVERES'\n",
    "df_estoque.loc[df_estoque['NmFundo'] == 'CONDOBEM FUNDO DE INVESTIMENTO EM DIREITOS CREDITÓRIOS DE RESPONSABILIDADE LIMITADA', 'NmFundo'] = 'FIDC CONDOBEM'\n",
    "df_estoque.loc[df_estoque['NmFundo'] == '3RD - FUNDO DE INVESTIMENTO EM DIREITOS CREDITÓRIOS', 'NmFundo'] = 'FIDC 3RD'\n",
    "df_estoque.loc[df_estoque['NmFundo'] == 'SMT AGRO FUNDO DE INVESTIMENTO EM DIREITOS CREDITÓRIOS DE RESPONSABILIDADE LIMITADA', 'NmFundo'] = 'FIDC SMT AGRO'\n",
    "df_estoque.loc[df_estoque['NmFundo'] == 'BR8 FIDC', 'NmFundo'] = 'FIDC BR8'\n",
    "df_estoque.loc[df_estoque['NmFundo'] == 'RHB CRED FUNDO DE INVESTIMENTO EM DIREITOS CREDITORIOS DE RESPONSABILIDADE LIMITADA', 'NmFundo'] = 'FIDC RHB'\n",
    "df_estoque.loc[df_estoque['NmFundo'] == 'MALBEC FUNDO DE INVESTIMENTO EM DIREITOS CREDITÓRIOS', 'NmFundo'] = 'FIDC MALBEC'\n",
    "df_estoque.loc[df_estoque['NmFundo'] == 'USECORP CATÁLISE FUNDO DE INVESTIMENTO EM DIREITOS CREDITÓRIOS SEGMENTO COMERCIAL DE RESP LIMITADA', 'NmFundo'] = 'FIDC USECORP CATALISE'\n",
    "df_estoque.loc[df_estoque['NmFundo'] == 'LEX CAPITAL FUNDO DE INVESTIMENTO EM DIREITOS CREDITÓRIOS DE RESPONSABILIDADE LIMITADA', 'NmFundo'] = 'FIDC LEX'\n",
    "df_estoque.loc[df_estoque['NmFundo'] == 'TERTON FUNDO DE INVESTIMENTO DIREITOS CREDITORIOS DE RESPONSABILIDADE LIMITADA', 'NmFundo'] = 'FIDC TERTON'\n",
    "df_estoque.loc[df_estoque['NmFundo'] == 'FIDC BOAZ', 'NmFundo'] = 'FIDC BOAZ'\n",
    "df_estoque.loc[df_estoque['NmFundo'] == 'TORONTO FUNDO DE INVESTIMENTO EM DIREITOS CREDITÓRIOS DE RESPONSABILIDADE LIMITADA', 'NmFundo'] = 'FIDC TORONTO'\n",
    "df_estoque.loc[df_estoque['NmFundo'] == 'BRISTOL FIDC MULTISSETORIAL', 'NmFundo'] = 'FIDC BRISTOL'\n",
    "df_estoque.loc[df_estoque['NmFundo'] == 'LOGFIN FUNDO DE INVESTIMENTO EM DIREITOS CREDITORIOS', 'NmFundo'] = 'FIDC LOGFIN'\n",
    "df_estoque.loc[df_estoque['NmFundo'] == 'YELLOW CAPITAL FUNDO DE INVESTIMENTO EM DIREITOS CREDITÓRIOS DE RESPONSABILIDADE LIMITADA', 'NmFundo'] = 'FIDC YELLOW'\n",
    "df_estoque.loc[df_estoque['NmFundo'] == 'EJM FUNDO DE INVESTIMENTO EM DIREITOS CREDITÓRIOS DE RESPONSABILIDADE LIMITADA', 'NmFundo'] = 'FIDC EJM'\n",
    "df_estoque.loc[df_estoque['NmFundo'] == 'MENEGOTTI FUNDO DE INVESTIMENTO EM COTAS DE FUNDOS DE INVESTIMENTO MULTIMERCADO', 'NmFundo'] = 'FIDC MENEGOTTI'\n",
    "df_estoque.loc[df_estoque['NmFundo'] == 'ZAB LEGACY FUNDO DE INVESTIMENTO EM DIREITOS CREDITORIOS DE RESPONSABILIDADE LIMITADA', 'NmFundo'] = 'FIDC ZAB LEGACY'\n",
    "df_estoque.loc[df_estoque['NmFundo'] == 'SAGEL BANK FUNDO DE INVESTIMENTO EM DIREITOS CREDITORIOS DE RESPONSABILIDADE LIMITADA', 'NmFundo'] = 'FIDC SAGEL BANK'\n",
    "\n",
    "print(f\"{df_estoque.NmFundo.sort_values(ascending= True).drop_duplicates()} \\n {len(df_estoque.NmFundo.drop_duplicates())}\")"
   ]
  },
  {
   "cell_type": "code",
   "execution_count": 11,
   "id": "a7f91aa1-8086-42c1-a8f9-ce50ffc50d75",
   "metadata": {},
   "outputs": [
    {
     "data": {
      "text/plain": [
       "'FIDC TOPCRED'"
      ]
     },
     "execution_count": 11,
     "metadata": {},
     "output_type": "execute_result"
    }
   ],
   "source": [
    "df_estoque.NmFundo[942068]"
   ]
  },
  {
   "cell_type": "code",
   "execution_count": 12,
   "id": "ab472fd4",
   "metadata": {},
   "outputs": [
    {
     "data": {
      "text/html": [
       "<div>\n",
       "<style scoped>\n",
       "    .dataframe tbody tr th:only-of-type {\n",
       "        vertical-align: middle;\n",
       "    }\n",
       "\n",
       "    .dataframe tbody tr th {\n",
       "        vertical-align: top;\n",
       "    }\n",
       "\n",
       "    .dataframe thead th {\n",
       "        text-align: right;\n",
       "    }\n",
       "</style>\n",
       "<table border=\"1\" class=\"dataframe\">\n",
       "  <thead>\n",
       "    <tr style=\"text-align: right;\">\n",
       "      <th></th>\n",
       "      <th>DtReferencia</th>\n",
       "    </tr>\n",
       "  </thead>\n",
       "  <tbody>\n",
       "    <tr>\n",
       "      <th>0</th>\n",
       "      <td>2025-03-20</td>\n",
       "    </tr>\n",
       "    <tr>\n",
       "      <th>1220781</th>\n",
       "      <td>2025-03-18</td>\n",
       "    </tr>\n",
       "  </tbody>\n",
       "</table>\n",
       "</div>"
      ],
      "text/plain": [
       "        DtReferencia\n",
       "0         2025-03-20\n",
       "1220781   2025-03-18"
      ]
     },
     "execution_count": 12,
     "metadata": {},
     "output_type": "execute_result"
    }
   ],
   "source": [
    "df_estoque[['DtReferencia']].drop_duplicates()"
   ]
  },
  {
   "cell_type": "code",
   "execution_count": 13,
   "id": "de7393c7",
   "metadata": {},
   "outputs": [
    {
     "data": {
      "text/html": [
       "<div>\n",
       "<style scoped>\n",
       "    .dataframe tbody tr th:only-of-type {\n",
       "        vertical-align: middle;\n",
       "    }\n",
       "\n",
       "    .dataframe tbody tr th {\n",
       "        vertical-align: top;\n",
       "    }\n",
       "\n",
       "    .dataframe thead th {\n",
       "        text-align: right;\n",
       "    }\n",
       "</style>\n",
       "<table border=\"1\" class=\"dataframe\">\n",
       "  <thead>\n",
       "    <tr style=\"text-align: right;\">\n",
       "      <th></th>\n",
       "      <th>DtReferencia</th>\n",
       "      <th>NmFundo</th>\n",
       "      <th>DocFundo</th>\n",
       "    </tr>\n",
       "  </thead>\n",
       "  <tbody>\n",
       "    <tr>\n",
       "      <th>0</th>\n",
       "      <td>2025-03-20</td>\n",
       "      <td>FIDC DFC</td>\n",
       "      <td>29.109.316/0001-06</td>\n",
       "    </tr>\n",
       "    <tr>\n",
       "      <th>1005</th>\n",
       "      <td>2025-03-20</td>\n",
       "      <td>FIDC IPE</td>\n",
       "      <td>30.142.432/0001-06</td>\n",
       "    </tr>\n",
       "    <tr>\n",
       "      <th>1072964</th>\n",
       "      <td>2025-03-20</td>\n",
       "      <td>FIDC USECORP CATALISE</td>\n",
       "      <td>52.997.828/0001-60</td>\n",
       "    </tr>\n",
       "    <tr>\n",
       "      <th>1106554</th>\n",
       "      <td>2025-03-20</td>\n",
       "      <td>FIDC ALBAREDO</td>\n",
       "      <td>53.073.677/0001-16</td>\n",
       "    </tr>\n",
       "    <tr>\n",
       "      <th>1108394</th>\n",
       "      <td>2025-03-20</td>\n",
       "      <td>FIDC Z INVEST</td>\n",
       "      <td>53.160.371/0001-05</td>\n",
       "    </tr>\n",
       "    <tr>\n",
       "      <th>...</th>\n",
       "      <td>...</td>\n",
       "      <td>...</td>\n",
       "      <td>...</td>\n",
       "    </tr>\n",
       "    <tr>\n",
       "      <th>1042684</th>\n",
       "      <td>2025-03-20</td>\n",
       "      <td>FIDC CREDIAL</td>\n",
       "      <td>48.928.987/0001-35</td>\n",
       "    </tr>\n",
       "    <tr>\n",
       "      <th>1042520</th>\n",
       "      <td>2025-03-20</td>\n",
       "      <td>FIDC AGROCETE</td>\n",
       "      <td>48.348.391/0001-66</td>\n",
       "    </tr>\n",
       "    <tr>\n",
       "      <th>0</th>\n",
       "      <td>2025-03-20</td>\n",
       "      <td>FIDC AGIS</td>\n",
       "      <td>35.689.601/0001-38</td>\n",
       "    </tr>\n",
       "    <tr>\n",
       "      <th>1220781</th>\n",
       "      <td>2025-03-18</td>\n",
       "      <td>FIDC ZAB LEGACY</td>\n",
       "      <td>58.495.913/0001-06</td>\n",
       "    </tr>\n",
       "    <tr>\n",
       "      <th>1221452</th>\n",
       "      <td>2025-03-18</td>\n",
       "      <td>FIDC SAGEL BANK</td>\n",
       "      <td>58.739.374/0001-03</td>\n",
       "    </tr>\n",
       "  </tbody>\n",
       "</table>\n",
       "<p>67 rows × 3 columns</p>\n",
       "</div>"
      ],
      "text/plain": [
       "        DtReferencia                NmFundo            DocFundo\n",
       "0         2025-03-20               FIDC DFC  29.109.316/0001-06\n",
       "1005      2025-03-20               FIDC IPE  30.142.432/0001-06\n",
       "1072964   2025-03-20  FIDC USECORP CATALISE  52.997.828/0001-60\n",
       "1106554   2025-03-20          FIDC ALBAREDO  53.073.677/0001-16\n",
       "1108394   2025-03-20          FIDC Z INVEST  53.160.371/0001-05\n",
       "...              ...                    ...                 ...\n",
       "1042684   2025-03-20           FIDC CREDIAL  48.928.987/0001-35\n",
       "1042520   2025-03-20          FIDC AGROCETE  48.348.391/0001-66\n",
       "0         2025-03-20              FIDC AGIS  35.689.601/0001-38\n",
       "1220781   2025-03-18        FIDC ZAB LEGACY  58.495.913/0001-06\n",
       "1221452   2025-03-18        FIDC SAGEL BANK  58.739.374/0001-03\n",
       "\n",
       "[67 rows x 3 columns]"
      ]
     },
     "execution_count": 13,
     "metadata": {},
     "output_type": "execute_result"
    }
   ],
   "source": [
    "df_estoque[['DtReferencia','NmFundo','DocFundo']].drop_duplicates().sort_values(\"DtReferencia\",ascending=False)"
   ]
  },
  {
   "cell_type": "code",
   "execution_count": 14,
   "id": "b5278c96-a18c-4d0f-bf7b-95df5f32ff8d",
   "metadata": {},
   "outputs": [
    {
     "name": "stdout",
     "output_type": "stream",
     "text": [
      "                       NmFundo DtReferencia\n",
      "0                     FIDC DFC   2025-03-20\n",
      "1005                  FIDC IPE   2025-03-20\n",
      "2568               FIDC FERPAR   2025-03-20\n",
      "5094            FIDC GREENWOOD   2025-03-20\n",
      "5230            FIDC PAY CARGO   2025-03-20\n",
      "58669               FIDC UNITY   2025-03-20\n",
      "62367             FIDC TRACTOR   2025-03-20\n",
      "68357                 FIDC 3RD   2025-03-20\n",
      "80120             FIDC 3G BANK   2025-03-20\n",
      "81965               FIDC BETTA   2025-03-20\n",
      "84303              FIDC KERDOS   2025-03-20\n",
      "87095               FIDC VELSO   2025-03-20\n",
      "97707             FIDC TOPCRED   2025-03-20\n",
      "1016704               FIDC SDL   2025-03-20\n",
      "1017869           FIDC F2 BANK   2025-03-20\n",
      "1029286          FIDC CREDILOG   2025-03-20\n",
      "1029287            FIDC LOGFIN   2025-03-20\n",
      "1030174          FIDC MF GROUP   2025-03-20\n",
      "1039625          FIDC B ROCKET   2025-03-20\n",
      "1042520          FIDC AGROCETE   2025-03-20\n",
      "1042684           FIDC CREDIAL   2025-03-20\n",
      "1042716            FIDC VISHNU   2025-03-20\n",
      "1042876         FIDC P2 INVEST   2025-03-20\n",
      "1043979      FIDC NINE CAPITAL   2025-03-20\n",
      "1049106            FIDC BRAVOS   2025-03-20\n",
      "1051685       FIDC CREDILOG II   2025-03-20\n",
      "1054373               FIDC AF6   2025-03-20\n",
      "1054499          FIDC MASTRENN   2025-03-20\n",
      "1054555            FIDC MALBEC   2025-03-20\n",
      "1059684           FIDC BINVEST   2025-03-20\n",
      "1066973           FIDC VALENTE   2025-03-20\n",
      "1068889          FIDC VERGINIA   2025-03-20\n",
      "1069535              FIDC BOAZ   2025-03-20\n",
      "1069590              FIDC BELL   2025-03-20\n",
      "1072629               FIDC UKF   2025-03-20\n",
      "1072964  FIDC USECORP CATALISE   2025-03-20\n",
      "1106554          FIDC ALBAREDO   2025-03-20\n",
      "1108394          FIDC Z INVEST   2025-03-20\n",
      "1108631                FIDC SC   2025-03-20\n",
      "1108695        FIDC PRIME AGRO   2025-03-20\n",
      "1109292            FIDC PEROLA   2025-03-20\n",
      "1113417              FIDC BASA   2025-03-20\n",
      "1144886     FIDC GLOBAL FUTURA   2025-03-20\n",
      "1144906          FIDC BONTEMPO   2025-03-20\n",
      "1144935          FIDC FINTRUST   2025-03-20\n",
      "1145670  FIDC LIBRA CONSIGNADO   2025-03-20\n",
      "1152837             FIDC BEFIC   2025-03-20\n",
      "1157899            FIDC PINPAG   2025-03-20\n",
      "1166282            FIDC VITTRA   2025-03-20\n",
      "1177712             FIDC DBANK   2025-03-20\n",
      "1178069        FIDC CAPITALIZA   2025-03-20\n",
      "1178414    FIDC FUTURO CAPITAL   2025-03-20\n",
      "1178944            FIDC PRIMER   2025-03-20\n",
      "1182062              FIDC ANIL   2025-03-20\n",
      "1191297           FIDC ANVERES   2025-03-20\n",
      "1191468               FIDC BR8   2025-03-20\n",
      "1195314              FIDC NR11   2025-03-20\n",
      "1196452          FIDC SMT AGRO   2025-03-20\n",
      "1202116               FIDC RHB   2025-03-20\n",
      "1202562               FIDC LEX   2025-03-20\n",
      "1202563           FIDC TORONTO   2025-03-20\n",
      "1202715            FIDC TERTON   2025-03-20\n",
      "1220719            FIDC YELLOW   2025-03-20\n",
      "1220779               FIDC EJM   2025-03-20\n"
     ]
    }
   ],
   "source": [
    "print(df_estoque[['NmFundo', 'DtReferencia']].drop_duplicates().head(64).to_string())"
   ]
  },
  {
   "cell_type": "code",
   "execution_count": 15,
   "id": "544989cc",
   "metadata": {},
   "outputs": [
    {
     "data": {
      "text/plain": [
       "67"
      ]
     },
     "execution_count": 15,
     "metadata": {},
     "output_type": "execute_result"
    }
   ],
   "source": [
    "df_estoque.NmFundo.drop_duplicates().count()"
   ]
  },
  {
   "cell_type": "code",
   "execution_count": 16,
   "id": "3261bc2b-6149-405f-9dc1-a6ac816e7b25",
   "metadata": {},
   "outputs": [
    {
     "name": "stdout",
     "output_type": "stream",
     "text": [
      "0          29.109.316/0001-06\n",
      "1005       30.142.432/0001-06\n",
      "2568       35.940.459/0001-50\n",
      "5094       36.399.603/0001-55\n",
      "5230       36.544.636/0001-41\n",
      "58669      38.137.056/0001-65\n",
      "62367      38.137.103/0001-70\n",
      "68357      40.975.325/0001-04\n",
      "80120      41.387.466/0001-79\n",
      "81965      41.579.569/0001-30\n",
      "84303      42.462.558/0001-39\n",
      "87095      42.479.713/0001-20\n",
      "97707      43.181.488/0001-03\n",
      "1016704    43.290.912/0001-58\n",
      "1017869    43.722.793/0001-65\n",
      "1029286    44.302.374/0001-37\n",
      "1029287    46.268.912/0001-40\n",
      "1030174    47.424.724/0001-26\n",
      "1039625    47.862.139/0001-08\n",
      "1042520    48.348.391/0001-66\n",
      "1042684    48.928.987/0001-35\n",
      "1042716    48.984.429/0001-97\n",
      "1042876    49.000.456/0001-40\n",
      "1043979    49.250.454/0001-00\n",
      "1049106    51.430.054/0001-28\n",
      "1051685    51.655.558/0001-46\n",
      "1054373    51.774.918/0001-29\n",
      "1054499    51.901.421/0001-24\n",
      "1054555    52.041.044/0001-63\n",
      "1059684    52.258.255/0001-52\n",
      "1066973    52.531.368/0001-80\n",
      "1068889    52.532.399/0001-55\n",
      "1069535    52.549.758/0001-87\n",
      "1069590    52.766.910/0001-83\n",
      "1072629    52.997.521/0001-69\n",
      "1072964    52.997.828/0001-60\n",
      "1106554    53.073.677/0001-16\n",
      "1108394    53.160.371/0001-05\n",
      "1108631    53.429.996/0001-11\n",
      "1108695    53.783.414/0001-09\n",
      "1109292    53.960.578/0001-56\n",
      "1113417    53.962.432/0001-40\n",
      "1144886    53.962.745/0001-06\n",
      "1144906    54.618.084/0001-50\n",
      "1144935    54.776.530/0001-55\n",
      "1145670    54.842.157/0001-93\n",
      "1152837    54.842.370/0001-03\n",
      "1157899    54.851.716/0001-21\n",
      "1166282    55.105.668/0001-95\n",
      "1177712    55.106.118/0001-90\n",
      "1178069    55.106.451/0001-08\n",
      "1178414    55.122.381/0001-73\n",
      "1178944    55.512.068/0001-41\n",
      "1182062    55.657.044/0001-80\n",
      "1191297    55.675.974/0001-67\n",
      "1191468    55.749.847/0001-65\n",
      "1195314    55.948.310/0001-24\n",
      "1196452    56.197.290/0001-60\n",
      "1202116    56.823.795/0001-92\n",
      "1202562    56.883.223/0001-07\n",
      "1202563    56.973.948/0001-88\n",
      "1202715    57.378.455/0001-62\n",
      "1220719    57.810.758/0001-02\n",
      "1220779    57.941.435/0001-58\n",
      "1220781    58.495.913/0001-06\n",
      "1221452    58.739.374/0001-03\n",
      "0          35.689.601/0001-38\n"
     ]
    }
   ],
   "source": [
    "print(df_estoque.DocFundo.drop_duplicates().head(70).to_string())"
   ]
  },
  {
   "cell_type": "code",
   "execution_count": 17,
   "id": "92acb861-a3e9-4e65-85cf-4c8b022d5aab",
   "metadata": {},
   "outputs": [
    {
     "data": {
      "text/html": [
       "<div>\n",
       "<style scoped>\n",
       "    .dataframe tbody tr th:only-of-type {\n",
       "        vertical-align: middle;\n",
       "    }\n",
       "\n",
       "    .dataframe tbody tr th {\n",
       "        vertical-align: top;\n",
       "    }\n",
       "\n",
       "    .dataframe thead th {\n",
       "        text-align: right;\n",
       "    }\n",
       "</style>\n",
       "<table border=\"1\" class=\"dataframe\">\n",
       "  <thead>\n",
       "    <tr style=\"text-align: right;\">\n",
       "      <th></th>\n",
       "      <th>NmFundo</th>\n",
       "      <th>DocFundo</th>\n",
       "      <th>NmCedente</th>\n",
       "      <th>DocCedente</th>\n",
       "      <th>NmSacado</th>\n",
       "      <th>DocSacado</th>\n",
       "      <th>Operacao</th>\n",
       "      <th>NuDocumento</th>\n",
       "      <th>TpRecebivel</th>\n",
       "      <th>VlrNominal</th>\n",
       "      <th>VlrPresente</th>\n",
       "      <th>VlrAquisicao</th>\n",
       "      <th>VlrPDD</th>\n",
       "      <th>FaixaPDD</th>\n",
       "      <th>DtReferencia</th>\n",
       "      <th>DtVencimento</th>\n",
       "      <th>DtVencimentoAjustada</th>\n",
       "      <th>DtEmissao</th>\n",
       "      <th>DtAquisicao</th>\n",
       "      <th>Coobrigacao</th>\n",
       "    </tr>\n",
       "  </thead>\n",
       "  <tbody>\n",
       "    <tr>\n",
       "      <th>1049645</th>\n",
       "      <td>FIDC BRAVOS</td>\n",
       "      <td>51.430.054/0001-28</td>\n",
       "      <td>TSI SOLUCOES LTDA</td>\n",
       "      <td>56.070.635/0001-10</td>\n",
       "      <td>tsi solucoes ltda</td>\n",
       "      <td>56.070.635/0001-10</td>\n",
       "      <td>00007514/0002471893</td>\n",
       "      <td>NaN</td>\n",
       "      <td>Nota Comercial</td>\n",
       "      <td>405612.90</td>\n",
       "      <td>352596.84</td>\n",
       "      <td>337249.34</td>\n",
       "      <td>0.0</td>\n",
       "      <td>A</td>\n",
       "      <td>2025-03-20</td>\n",
       "      <td>2025-12-19</td>\n",
       "      <td>2025-12-19</td>\n",
       "      <td>2024-12-19</td>\n",
       "      <td>2024-12-19</td>\n",
       "      <td>Nao</td>\n",
       "    </tr>\n",
       "    <tr>\n",
       "      <th>1069579</th>\n",
       "      <td>FIDC BOAZ</td>\n",
       "      <td>52.549.758/0001-87</td>\n",
       "      <td>ACRE COMERCIO E ADMINISTRACAO LTDA(MATRIZ)</td>\n",
       "      <td>63.605.653/0001-14</td>\n",
       "      <td>ACRE COMERCIO E ADMINISTRACAO LTDA</td>\n",
       "      <td>63.605.653/0001-14</td>\n",
       "      <td>NaN</td>\n",
       "      <td>0142873800</td>\n",
       "      <td>Nota Comercial</td>\n",
       "      <td>650104.45</td>\n",
       "      <td>629528.99</td>\n",
       "      <td>620253.53</td>\n",
       "      <td>0.0</td>\n",
       "      <td>A</td>\n",
       "      <td>2025-03-20</td>\n",
       "      <td>2025-05-19</td>\n",
       "      <td>2025-05-19</td>\n",
       "      <td>2025-02-19</td>\n",
       "      <td>2025-02-20</td>\n",
       "      <td>Nao</td>\n",
       "    </tr>\n",
       "    <tr>\n",
       "      <th>1220780</th>\n",
       "      <td>FIDC EJM</td>\n",
       "      <td>57.941.435/0001-58</td>\n",
       "      <td>COMPANHIA SECURITIZADORA X S.A.</td>\n",
       "      <td>51.362.852/0001-60</td>\n",
       "      <td>companhia securitizadora x s.a.</td>\n",
       "      <td>51.362.852/0001-60</td>\n",
       "      <td>NaN</td>\n",
       "      <td>0000001262</td>\n",
       "      <td>Debentures</td>\n",
       "      <td>300000.00</td>\n",
       "      <td>300000.00</td>\n",
       "      <td>300000.00</td>\n",
       "      <td>0.0</td>\n",
       "      <td>A</td>\n",
       "      <td>2025-03-20</td>\n",
       "      <td>2027-11-23</td>\n",
       "      <td>2027-11-23</td>\n",
       "      <td>2025-02-25</td>\n",
       "      <td>2025-02-28</td>\n",
       "      <td>Nao</td>\n",
       "    </tr>\n",
       "  </tbody>\n",
       "</table>\n",
       "</div>"
      ],
      "text/plain": [
       "             NmFundo            DocFundo  \\\n",
       "1049645  FIDC BRAVOS  51.430.054/0001-28   \n",
       "1069579    FIDC BOAZ  52.549.758/0001-87   \n",
       "1220780     FIDC EJM  57.941.435/0001-58   \n",
       "\n",
       "                                          NmCedente          DocCedente  \\\n",
       "1049645                           TSI SOLUCOES LTDA  56.070.635/0001-10   \n",
       "1069579  ACRE COMERCIO E ADMINISTRACAO LTDA(MATRIZ)  63.605.653/0001-14   \n",
       "1220780             COMPANHIA SECURITIZADORA X S.A.  51.362.852/0001-60   \n",
       "\n",
       "                                   NmSacado           DocSacado  \\\n",
       "1049645                   tsi solucoes ltda  56.070.635/0001-10   \n",
       "1069579  ACRE COMERCIO E ADMINISTRACAO LTDA  63.605.653/0001-14   \n",
       "1220780     companhia securitizadora x s.a.  51.362.852/0001-60   \n",
       "\n",
       "                    Operacao NuDocumento     TpRecebivel  VlrNominal  \\\n",
       "1049645  00007514/0002471893         NaN  Nota Comercial   405612.90   \n",
       "1069579                  NaN  0142873800  Nota Comercial   650104.45   \n",
       "1220780                  NaN  0000001262      Debentures   300000.00   \n",
       "\n",
       "         VlrPresente  VlrAquisicao  VlrPDD FaixaPDD DtReferencia DtVencimento  \\\n",
       "1049645    352596.84     337249.34     0.0        A   2025-03-20   2025-12-19   \n",
       "1069579    629528.99     620253.53     0.0        A   2025-03-20   2025-05-19   \n",
       "1220780    300000.00     300000.00     0.0        A   2025-03-20   2027-11-23   \n",
       "\n",
       "        DtVencimentoAjustada  DtEmissao DtAquisicao Coobrigacao  \n",
       "1049645           2025-12-19 2024-12-19  2024-12-19         Nao  \n",
       "1069579           2025-05-19 2025-02-19  2025-02-20         Nao  \n",
       "1220780           2027-11-23 2025-02-25  2025-02-28         Nao  "
      ]
     },
     "execution_count": 17,
     "metadata": {},
     "output_type": "execute_result"
    }
   ],
   "source": [
    "# Filtrar linhas com pelo menos um NaN\n",
    "df_na= df_estoque[df_estoque.isna().any(axis=1)]\n",
    "df_na"
   ]
  },
  {
   "cell_type": "markdown",
   "id": "427bb5e9",
   "metadata": {},
   "source": [
    "___________________"
   ]
  },
  {
   "cell_type": "raw",
   "id": "64609a3f",
   "metadata": {},
   "source": [
    "Um loop for é usado para iterar pelas linhas do DataFrame e inserir cada linha na tabela MySQL.\n",
    "\n",
    "O código está envolvido em um bloco try e except para lidar com erros. Se ocorrer algum erro durante a inserção, uma operação de rollback será executada para reverter as alterações e evitar dados inconsistentes no banco de dados.\n",
    "\n",
    "Após a inserção bem-sucedida ou a operação de rollback em caso de erro, a conexão é fechada."
   ]
  },
  {
   "cell_type": "markdown",
   "id": "9cbbca9f",
   "metadata": {},
   "source": [
    "# Valida quantidade de fundos SQL"
   ]
  },
  {
   "cell_type": "code",
   "execution_count": 18,
   "id": "c737c10e",
   "metadata": {},
   "outputs": [
    {
     "name": "stdout",
     "output_type": "stream",
     "text": [
      "Conectado ao MySQL\n"
     ]
    }
   ],
   "source": [
    "import mysql.connector\n",
    "import pandas as pd\n",
    " \n",
    "# Conectar ao banco de dados MySQL\n",
    "connection = mysql.connector.connect(\n",
    "    host='catalise-bi-dados-cluster.cluster-ciaao5zm9beh.sa-east-1.rds.amazonaws.com',\n",
    "    database='DW_CORPORATIVO',\n",
    "    user='admin',\n",
    "    password='yb222KraY7PTN0jbH7P3'\n",
    ") \n",
    "\n",
    "if connection.is_connected():\n",
    "    print('Conectado ao MySQL')\n",
    "\n",
    "    # Definir a consulta SQL\n",
    "    query = \"SELECT NmFundo, DocFundo FROM Dm_Fundo WHERE Status = 'Ativo'\"\n",
    "\n",
    "    # Executar a consulta e obter os resultados\n",
    "    cursor = connection.cursor()\n",
    "    cursor.execute(query)\n",
    "    resultados = cursor.fetchall()\n",
    "\n",
    "    # Criar um DataFrame com os resultados\n",
    "    colunas = [i[0] for i in cursor.description]\n",
    "    Dm_Fundos = pd.DataFrame(resultados, columns=colunas)\n",
    "\n",
    "    # Fechar o cursor\n",
    "    cursor.close()\n",
    "\n",
    "else:\n",
    "    print('Falha na conexão ao MySQL')\n",
    "\n",
    "# Fechar a conexão com o banco de dados\n",
    "connection.close()"
   ]
  },
  {
   "cell_type": "code",
   "execution_count": 19,
   "id": "2870c12c",
   "metadata": {},
   "outputs": [
    {
     "data": {
      "text/plain": [
       "4"
      ]
     },
     "execution_count": 19,
     "metadata": {},
     "output_type": "execute_result"
    }
   ],
   "source": [
    "estoque = df_estoque[[\"DocFundo\",\"NmFundo\"]].drop_duplicates()\n",
    "estoque = estoque.rename(columns={'NmFundo': 'NmFundo_Estoque'})\n",
    "\n",
    "df_merged = pd.merge(Dm_Fundos, estoque, on='DocFundo', how='left')\n",
    "df_merged = df_merged.fillna(value=0)\n",
    "\n",
    "x = len(df_merged[df_merged[\"NmFundo_Estoque\"]==0])\n",
    "x"
   ]
  },
  {
   "cell_type": "markdown",
   "id": "58220e8e",
   "metadata": {},
   "source": [
    "# Faltantes "
   ]
  },
  {
   "cell_type": "code",
   "execution_count": 20,
   "id": "b26c94f1",
   "metadata": {
    "scrolled": true
   },
   "outputs": [
    {
     "name": "stdout",
     "output_type": "stream",
     "text": [
      "['FIDC APG', 'FIDC BRISTOL', 'FICFIDC CATALISE', 'FICFIDC LION']\n"
     ]
    }
   ],
   "source": [
    "MensagemTeams = df_merged.loc[df_merged[\"NmFundo_Estoque\"] == 0, \"NmFundo\"].to_list()\n",
    "print(MensagemTeams)"
   ]
  },
  {
   "cell_type": "markdown",
   "id": "1e8e0206",
   "metadata": {},
   "source": [
    "##### TRUNCATE NA TABELA STAGING Stg_Estoque"
   ]
  },
  {
   "cell_type": "code",
   "execution_count": null,
   "id": "f26b8590",
   "metadata": {},
   "outputs": [],
   "source": [
    "# banco_de_dados = 'DW_STAGING'\n",
    "# nome_da_sua_tabela = 'Stg_Estoque'\n",
    "\n",
    "# con = pymysql.connect(host = 'dbc-sp-1-instance-1-instance-1.ciaao5zm9beh.sa-east-1.rds.amazonaws.com', user = 'dwuser', passwd = 'MMo6u4UHKEWr', db = banco_de_dados)\n",
    "# cursor = con.cursor()\n",
    "# connection\n",
    "\n",
    "# cursor.execute(f\"TRUNCATE TABLE {nome_da_sua_tabela}\")\n",
    "\n",
    "# con.close()"
   ]
  },
  {
   "cell_type": "code",
   "execution_count": 21,
   "id": "ade5ef64",
   "metadata": {},
   "outputs": [
    {
     "name": "stdout",
     "output_type": "stream",
     "text": [
      "NmFundo                 0\n",
      "DocFundo                0\n",
      "NmCedente               0\n",
      "DocCedente              0\n",
      "NmSacado                0\n",
      "DocSacado               0\n",
      "Operacao                2\n",
      "NuDocumento             1\n",
      "TpRecebivel             0\n",
      "VlrNominal              0\n",
      "VlrPresente             0\n",
      "VlrAquisicao            0\n",
      "VlrPDD                  0\n",
      "FaixaPDD                0\n",
      "DtReferencia            0\n",
      "DtVencimento            0\n",
      "DtVencimentoAjustada    0\n",
      "DtEmissao               0\n",
      "DtAquisicao             0\n",
      "Coobrigacao             0\n",
      "dtype: int64\n"
     ]
    }
   ],
   "source": [
    "# Contar valores NaN em cada coluna\n",
    "nan_por_coluna = df_estoque.isna().sum()\n",
    "\n",
    "# Exibir o resumo\n",
    "print(nan_por_coluna)"
   ]
  },
  {
   "cell_type": "markdown",
   "id": "c2531290",
   "metadata": {},
   "source": [
    "### Remover valores faltantes"
   ]
  },
  {
   "cell_type": "code",
   "execution_count": 22,
   "id": "992d31be",
   "metadata": {},
   "outputs": [],
   "source": [
    "df_estoque.fillna(0, inplace=True)"
   ]
  },
  {
   "cell_type": "markdown",
   "id": "4f67218b",
   "metadata": {},
   "source": [
    "## Insere na tabela STG"
   ]
  },
  {
   "cell_type": "code",
   "execution_count": 23,
   "id": "f860afae",
   "metadata": {},
   "outputs": [
    {
     "name": "stdout",
     "output_type": "stream",
     "text": [
      "Conectado ao MySQL\n",
      "Concluído\n",
      "Tempo decorrido: 65.69472694396973 segundos\n"
     ]
    }
   ],
   "source": [
    "import mysql.connector\n",
    "import pandas as pd\n",
    "import time\n",
    "start_time = time.time()\n",
    "\n",
    "df_final = df_estoque\n",
    " \n",
    "# Função para inserir um pedaço do DataFrame na tabela MySQL em lote\n",
    "def insert_dataframe_to_mysql_batch(df, connection, table_name, batch_size=100000):\n",
    "    cursor = connection.cursor()\n",
    "    cols = \",\".join([str(i) for i in df.columns.tolist()])\n",
    "    \n",
    "    # Dividir o DataFrame em lotes\n",
    "    for i in range(0, len(df), batch_size):\n",
    "        batch_df = df.iloc[i:i+batch_size]\n",
    "        values = [tuple(x) for x in batch_df.to_numpy()]\n",
    "        placeholders = \",\".join([\"%s\"] * len(df.columns))\n",
    "        sql = f\"INSERT INTO {table_name} ({cols}) VALUES ({placeholders})\"\n",
    "        cursor.executemany(sql, values)\n",
    "        connection.commit()\n",
    "    cursor.close()\n",
    "\n",
    "# Conectar ao banco de dados MySQL\n",
    "connection = mysql.connector.connect(\n",
    "    host='catalise-bi-dados-cluster.cluster-ciaao5zm9beh.sa-east-1.rds.amazonaws.com',\n",
    "    database='DW_STAGING',\n",
    "    user='admin',\n",
    "    password='yb222KraY7PTN0jbH7P3'\n",
    ")\n",
    "\n",
    "if connection.is_connected():\n",
    "    print('Conectado ao MySQL')\n",
    "\n",
    "    # Inserir DataFrame em lotes\n",
    "    insert_dataframe_to_mysql_batch(df_final, connection, 'Stg_Estoque', batch_size=10000)\n",
    "    print('Concluído')\n",
    "else:\n",
    "    print('Falha na conexão ao MySQL')\n",
    "\n",
    "# Fechar a conexão com o banco de dados\n",
    "connection.close()\n",
    "\n",
    "end_time = time.time()\n",
    "# Calcula o tempo decorrido\n",
    "elapsed_time = end_time - start_time\n",
    "print(f\"Tempo decorrido: {elapsed_time} segundos\")"
   ]
  },
  {
   "cell_type": "markdown",
   "id": "21ee7e91",
   "metadata": {},
   "source": [
    "### Deletar os arquivos da pasta"
   ]
  },
  {
   "cell_type": "code",
   "execution_count": null,
   "id": "f19e6d3c",
   "metadata": {},
   "outputs": [],
   "source": [
    "import os\n",
    " \n",
    "dir = '//172.31.8.209/Files/CataliseInvestimentos/14. BigData Catalise/Staging/Estoques'\n",
    "for f in os.listdir(dir):\n",
    "    os.remove(os.path.join(dir, f))"
   ]
  }
 ],
 "metadata": {
  "kernelspec": {
   "display_name": "base",
   "language": "python",
   "name": "python3"
  },
  "language_info": {
   "codemirror_mode": {
    "name": "ipython",
    "version": 3
   },
   "file_extension": ".py",
   "mimetype": "text/x-python",
   "name": "python",
   "nbconvert_exporter": "python",
   "pygments_lexer": "ipython3",
   "version": "3.12.7"
  }
 },
 "nbformat": 4,
 "nbformat_minor": 5
}
