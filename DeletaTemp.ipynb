{
 "cells": [
  {
   "cell_type": "code",
   "execution_count": 3,
   "id": "49a5db74-8fdf-450e-b422-a2463920b61e",
   "metadata": {},
   "outputs": [],
   "source": [
    "import os\n",
    "dir = '//172.31.8.209/Files/CataliseInvestimentos/14. BigData Catalise/Staging/Patrimonio'\n",
    "for f in os.listdir(dir):\n",
    "    os.remove(os.path.join(dir, f))"
   ]
  },
  {
   "cell_type": "code",
   "execution_count": 1,
   "id": "9125301e-b6fb-4231-81d4-cf07778e5d2d",
   "metadata": {},
   "outputs": [],
   "source": [
    "import os\n",
    "dir = '//172.31.8.209/Files/CataliseInvestimentos/11. Gestao (DCM, Riscos,Dados)/11.12 Analises de Risco/Fundos_monitorados_FIC/Carteira Diária Locação/CarteiraDiariaBTG'\n",
    "for f in os.listdir(dir):\n",
    "    os.remove(os.path.join(dir, f))"
   ]
  },
  {
   "cell_type": "code",
   "execution_count": 2,
   "id": "99e140a0-14f7-4650-94e9-3d2944b1a237",
   "metadata": {},
   "outputs": [],
   "source": [
    "import os\n",
    "dir = '//172.31.8.209/Files/CataliseInvestimentos/11. Gestao (DCM, Riscos,Dados)/11.12 Analises de Risco/Fundos_monitorados_FIC/Carteira Diária Locação/CarteiraDiariaDaycoval'\n",
    "for f in os.listdir(dir):\n",
    "    os.remove(os.path.join(dir, f))"
   ]
  }
 ],
 "metadata": {
  "kernelspec": {
   "display_name": "base",
   "language": "python",
   "name": "python3"
  },
  "language_info": {
   "codemirror_mode": {
    "name": "ipython",
    "version": 3
   },
   "file_extension": ".py",
   "mimetype": "text/x-python",
   "name": "python",
   "nbconvert_exporter": "python",
   "pygments_lexer": "ipython3",
   "version": "3.12.7"
  }
 },
 "nbformat": 4,
 "nbformat_minor": 5
}
