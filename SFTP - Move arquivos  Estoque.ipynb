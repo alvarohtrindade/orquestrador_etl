{
 "cells": [
  {
   "cell_type": "markdown",
   "id": "e18cf47d",
   "metadata": {},
   "source": [
    "# SFTP"
   ]
  },
  {
   "cell_type": "markdown",
   "id": "6badf2a6",
   "metadata": {},
   "source": [
    "___________"
   ]
  },
  {
   "cell_type": "markdown",
   "id": "aa683cc0",
   "metadata": {},
   "source": [
    "# Estoque"
   ]
  },
  {
   "cell_type": "code",
   "execution_count": 5,
   "id": "86212382",
   "metadata": {},
   "outputs": [
    {
     "data": {
      "text/plain": [
       "1"
      ]
     },
     "execution_count": 5,
     "metadata": {},
     "output_type": "execute_result"
    }
   ],
   "source": [
    "import os\n",
    "import zipfile\n",
    "import pandas as pd\n",
    "import pysftp\n",
    "\n",
    "import pyshorteners\n",
    "import datetime as Dt\n",
    "import requests\n",
    "import json\n",
    "\n",
    "\n",
    "\n",
    "# #CAMINHO DA PASTA COM OS ZIPS DA DATA D-1\n",
    "arquivos = os.listdir(f\"//172.31.8.209/Files/CataliseInvestimentos/14. BigData Catalise/Staging/SFTP/\")\n",
    "\n",
    "lista = list(filter(lambda x: 'Estoque'in x, arquivos)) # encontra os arquivos com nome Liquidado\n",
    "\n",
    "estoque_zip = list(filter(lambda x: '.zip'in x, lista))\n",
    "\n",
    "\n",
    "\n",
    "len(estoque_zip)"
   ]
  },
  {
   "cell_type": "code",
   "execution_count": 6,
   "id": "77f3ae23",
   "metadata": {},
   "outputs": [
    {
     "data": {
      "text/plain": [
       "'Data: 2024-10-09 Hora: 11:10'"
      ]
     },
     "execution_count": 6,
     "metadata": {},
     "output_type": "execute_result"
    }
   ],
   "source": [
    "from datetime import datetime, timedelta\n",
    "datetime.today().strftime('Data: %Y-%m-%d Hora: %H:%m')"
   ]
  },
  {
   "cell_type": "markdown",
   "id": "78eb3c8c",
   "metadata": {},
   "source": [
    "Limpa pasta Staging-Estoques"
   ]
  },
  {
   "cell_type": "code",
   "execution_count": 7,
   "id": "252f6a24",
   "metadata": {},
   "outputs": [
    {
     "name": "stdout",
     "output_type": "stream",
     "text": [
      "\n",
      " \n",
      " Todos os arquivos 'Estoque' foram movidos!\n",
      " \n",
      " Caminho >> //172.31.8.209/Files/CataliseInvestimentos/14. BigData Catalise/Estoques\n"
     ]
    }
   ],
   "source": [
    "stop = 0\n",
    "while (stop < len(estoque_zip)):\n",
    "    \n",
    "       # Especifique o caminho completo do arquivo ZIP a ser descompactado\n",
    "    caminho_arquivo_zip = f'//172.31.8.209/Files/CataliseInvestimentos/14. BigData Catalise/Staging/SFTP/{estoque_zip[stop]}'\n",
    "\n",
    "    # Especifique o diretório de destino para a extração\n",
    "    caminho_destino = '//172.31.8.209/Files/CataliseInvestimentos/14. BigData Catalise/Staging/Estoques'\n",
    "\n",
    "    # Abra o arquivo ZIPhttp://localhost:8888/notebooks/SFTP%20-%20Move%20arquivos%20%20Estoque.ipynb#\n",
    "    with zipfile.ZipFile(caminho_arquivo_zip, 'r') as arquivo_zip:\n",
    "        # Extraia todo o conteúdo para o diretório de destino\n",
    "        arquivo_zip.extractall(caminho_destino)\n",
    "    \n",
    "    stop   = stop + 1\n",
    "else:\n",
    "      print(\"\\n \\n Todos os arquivos 'Estoque' foram movidos!\\\n",
    "\\n \\\n",
    "\\n Caminho >> //172.31.8.209/Files/CataliseInvestimentos/14. BigData Catalise/Estoques\")   "
   ]
  },
  {
   "cell_type": "code",
   "execution_count": 8,
   "id": "74e97805",
   "metadata": {},
   "outputs": [],
   "source": [
    "import os\n",
    " \n",
    "dir = '//172.31.8.209/Files/CataliseInvestimentos/14. BigData Catalise/Staging/SFTP'\n",
    "for f in os.listdir(dir):\n",
    "    os.remove(os.path.join(dir, f))"
   ]
  }
 ],
 "metadata": {
  "kernelspec": {
   "display_name": "Python 3 (ipykernel)",
   "language": "python",
   "name": "python3"
  },
  "language_info": {
   "codemirror_mode": {
    "name": "ipython",
    "version": 3
   },
   "file_extension": ".py",
   "mimetype": "text/x-python",
   "name": "python",
   "nbconvert_exporter": "python",
   "pygments_lexer": "ipython3",
   "version": "3.12.4"
  }
 },
 "nbformat": 4,
 "nbformat_minor": 5
}
