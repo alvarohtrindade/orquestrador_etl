{
 "cells": [
  {
   "cell_type": "markdown",
   "metadata": {},
   "source": [
    "# Portal Singulare (3 fundos)\n",
    "* https://portalfidc.singulare.com.br/portal/login\n",
    "\n",
    "# Portal Daycoval (49 fundos)\n",
    "* https://dayfidc.daycoval.com.br/portal/login\n",
    "* Portal FIDC DAYCOVAL:\n",
    "* Usuário: bruno.lage\n",
    "* Senha: Catalisador@1\n",
    "* Nome da mãe: Simone\n",
    "* Aniversário: 18/05/1985\n",
    "\n",
    "# Portal Master (18 fundos)\n",
    "1. https://portalfidc.mastercctvm.com.br/login/erro\n",
    "* Portal FIDC MASTER:\n",
    "* Usuário: Bruno.Lage\n",
    "* Senha: master25,\n",
    "\n",
    "# Portal BTG Pactual (38 fundos)\n",
    "* https://fundservicesid.btgpactual.com/Account/Login?ReturnUrl=%2Fconnect%2Fauthorize%2Fcallback%3Fclient_id%3DExtranetReactClient%26redirect_uri%3Dhttps%253A%252F%252Fportalfundservices.btgpactual.com%252F%26response_type%3Dcode%26scope%3Dapi.notificacao.gerenciar.notificacao%2520api.notificacao.gerenciar.grupo%2520api.documento.gerenciar.documento%2520api.documento.visualizar.tipo_documento%2520api.extranet_services.consultar%2520api.requisicao.gerenciar.requisicao%2520api.controle_acesso.consultar%2520reports.portfolio%26state%3D8c87982d50b24665b7d96b7e79187bf3%26code_challenge%3DQhwlRPrM1ok4zu6tEnScX2H14og3uad9lAPmaih-SoA%26code_challenge_method%3DS256%26response_mode%3Dquery"
   ]
  },
  {
   "cell_type": "markdown",
   "metadata": {},
   "source": [
    "# Etapas para download: Singulare, Master e Daycoval\n",
    "\n",
    "### Aquisições | Operações\n",
    "1. Login\n",
    "2. Ir em relatórios/Aquisições Consolidado\n",
    "3. Selecionar o fundo\n",
    "4. Selecionar período (dia anterior)\n",
    "5. Gera CSV\n",
    "6. Acessar \"Meus Relatórios\"\n",
    "7. Gerar download\n",
    "\n",
    "\n",
    "### Títulos Líquidados e Baixados\n",
    "1. Ir em Títulos Líquidados e Baixados\n",
    "2. Selecionar o fundo\n",
    "3. Selecionar período (dia anterior)\n",
    "4. Gera CSV\n",
    "5. Acessar \"Meus Relatórios\"\n",
    "6. Gerar download"
   ]
  },
  {
   "cell_type": "markdown",
   "metadata": {},
   "source": []
  },
  {
   "cell_type": "markdown",
   "metadata": {},
   "source": [
    "# Etapas para download: BTG Pactual\n",
    "\n",
    "----- Portal BTG -------------\n",
    "1. Login\n",
    "2. Ir em \"Ativo\"/\"Relatório\"\n",
    "\n",
    "3. Baixar (Carteira diária)\n",
    "3.1 Selecionar período (Início/Final) D-1\n",
    "3.2 Selecionar todos os fundos\n",
    "3.3 Clicar opção filtrar\n",
    "3.4 Selecionar opção \"Todos\"\n",
    "3.5 Selecionar todos os fundos (nome da classe) - checkbox \n",
    "3.6 Passar mouse opção \"Exportar individualmente relatórios selecionados\"\n",
    "3.7 Clicar em exportar carteiras diárias em Excel, XML e etc\n",
    "3.8 Descompactar\n",
    "\n",
    "4. Baixar \"Cotas e rentabilidades\"\n",
    "4.1 Selecionar período (1º dia útil até D-1)\n",
    "4.2 Selecionar todos os fundos\n",
    "4.3 Clicar em filtrar \n",
    "4.4 Exportar tabela para CSV\n",
    "\n",
    "5. Baixar \"Caixa\"\n",
    "5.1 Selecionar opção \"Extrato C/C\"\n",
    "5.2 Selecionar todos os fundos \n",
    "5.3 Selecionar o período (D-1)\n",
    "5.4 Filtrar"
   ]
  }
 ],
 "metadata": {
  "language_info": {
   "name": "python"
  }
 },
 "nbformat": 4,
 "nbformat_minor": 2
}
