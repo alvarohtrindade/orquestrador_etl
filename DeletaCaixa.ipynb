{
 "cells": [
  {
   "cell_type": "code",
   "execution_count": 1,
   "id": "08c378e0-7801-46dc-b9b9-390b7c19faf2",
   "metadata": {},
   "outputs": [],
   "source": [
    "import os\n",
    "dir = '//172.31.8.209/Files/CataliseInvestimentos/14. BigData Catalise/Staging/CaixaLancamentos'\n",
    "for f in os.listdir(dir):\n",
    "    os.remove(os.path.join(dir, f))"
   ]
  },
  {
   "cell_type": "code",
   "execution_count": 2,
   "id": "fc27ea6b-d1cd-412d-b55b-48f0591343e7",
   "metadata": {},
   "outputs": [],
   "source": [
    "import os\n",
    "dir = '//172.31.8.209/Files/CataliseInvestimentos/14. BigData Catalise/Staging/Carteira Diaria/BTG Diaria'\n",
    "for f in os.listdir(dir):\n",
    "    os.remove(os.path.join(dir, f))"
   ]
  },
  {
   "cell_type": "code",
   "execution_count": 3,
   "id": "14919610-5f9d-4d6d-9fec-2506223f427e",
   "metadata": {},
   "outputs": [],
   "source": [
    "import os\n",
    "dir = '//172.31.8.209/Files/CataliseInvestimentos/14. BigData Catalise/Staging/Carteira Diaria/Daycoval Diaria'\n",
    "for f in os.listdir(dir):\n",
    "    os.remove(os.path.join(dir, f))"
   ]
  },
  {
   "cell_type": "code",
   "execution_count": 4,
   "id": "e885952d-d7f8-4768-a4d0-fa797552806e",
   "metadata": {},
   "outputs": [],
   "source": [
    "import os\n",
    "dir = '//172.31.8.209/Files/CataliseInvestimentos/14. BigData Catalise/Staging/Carteira Diaria/Singulare Diaria'\n",
    "for f in os.listdir(dir):\n",
    "    os.remove(os.path.join(dir, f))"
   ]
  },
  {
   "cell_type": "code",
   "execution_count": 5,
   "id": "f47fa5bb-7f78-4463-ab9f-367886b677ac",
   "metadata": {},
   "outputs": [],
   "source": [
    "import os\n",
    "dir = '//172.31.8.209/Files/CataliseInvestimentos/14. BigData Catalise/Staging/Carteira Diaria/Master Diaria/01- Renda Fixa'\n",
    "for f in os.listdir(dir):\n",
    "    os.remove(os.path.join(dir, f))"
   ]
  },
  {
   "cell_type": "code",
   "execution_count": 6,
   "id": "d8695ae0-f465-435b-b51f-90ded899024d",
   "metadata": {},
   "outputs": [],
   "source": [
    "import os\n",
    "dir = '//172.31.8.209/Files/CataliseInvestimentos/14. BigData Catalise/Staging/Carteira Diaria/Master Diaria/02-Fundos-Fundos'\n",
    "for f in os.listdir(dir):\n",
    "    os.remove(os.path.join(dir, f))"
   ]
  },
  {
   "cell_type": "code",
   "execution_count": 7,
   "id": "ff3e552d-eca2-4f2d-9c34-7869bb5ffde7",
   "metadata": {},
   "outputs": [],
   "source": [
    "import os\n",
    "dir = '//172.31.8.209/Files/CataliseInvestimentos/14. BigData Catalise/Staging/Carteira Diaria/Master Diaria/03-Outros_Ativos'\n",
    "for f in os.listdir(dir):\n",
    "    os.remove(os.path.join(dir, f))"
   ]
  },
  {
   "cell_type": "code",
   "execution_count": 8,
   "id": "b2033ee6-de30-4c6f-a3b5-0c896fa6ddc9",
   "metadata": {},
   "outputs": [],
   "source": [
    "import os\n",
    "dir = '//172.31.8.209/Files/CataliseInvestimentos/14. BigData Catalise/Staging/Carteira Diaria/Master Diaria/06-Patrimonio-Totais'\n",
    "for f in os.listdir(dir):\n",
    "    os.remove(os.path.join(dir, f))"
   ]
  }
 ],
 "metadata": {
  "kernelspec": {
   "display_name": "base",
   "language": "python",
   "name": "python3"
  },
  "language_info": {
   "codemirror_mode": {
    "name": "ipython",
    "version": 3
   },
   "file_extension": ".py",
   "mimetype": "text/x-python",
   "name": "python",
   "nbconvert_exporter": "python",
   "pygments_lexer": "ipython3",
   "version": "3.12.7"
  }
 },
 "nbformat": 4,
 "nbformat_minor": 5
}
